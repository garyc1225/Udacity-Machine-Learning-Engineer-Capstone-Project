{
 "cells": [
  {
   "cell_type": "markdown",
   "id": "8b9e831d",
   "metadata": {},
   "source": [
    "# Download data from Kaggle"
   ]
  },
  {
   "cell_type": "code",
   "execution_count": 105,
   "id": "a22db612",
   "metadata": {},
   "outputs": [
    {
     "name": "stdout",
     "output_type": "stream",
     "text": [
      "/home/ec2-user/anaconda3/envs/amazonei_tensorflow_p36/lib/python3.6/site-packages/secretstorage/dhcrypto.py:16: CryptographyDeprecationWarning: int_from_bytes is deprecated, use int.from_bytes instead\n",
      "  from cryptography.utils import int_from_bytes\n",
      "/home/ec2-user/anaconda3/envs/amazonei_tensorflow_p36/lib/python3.6/site-packages/secretstorage/util.py:25: CryptographyDeprecationWarning: int_from_bytes is deprecated, use int.from_bytes instead\n",
      "  from cryptography.utils import int_from_bytes\n",
      "Collecting kaggle\n",
      "  Downloading kaggle-1.5.12.tar.gz (58 kB)\n",
      "\u001b[K     |████████████████████████████████| 58 kB 8.0 MB/s  eta 0:00:01\n",
      "\u001b[?25hRequirement already satisfied: six>=1.10 in /home/ec2-user/anaconda3/envs/amazonei_tensorflow_p36/lib/python3.6/site-packages (from kaggle) (1.16.0)\n",
      "Requirement already satisfied: certifi in /home/ec2-user/anaconda3/envs/amazonei_tensorflow_p36/lib/python3.6/site-packages (from kaggle) (2021.10.8)\n",
      "Requirement already satisfied: python-dateutil in /home/ec2-user/anaconda3/envs/amazonei_tensorflow_p36/lib/python3.6/site-packages (from kaggle) (2.8.2)\n",
      "Requirement already satisfied: requests in /home/ec2-user/anaconda3/envs/amazonei_tensorflow_p36/lib/python3.6/site-packages (from kaggle) (2.26.0)\n",
      "Requirement already satisfied: tqdm in /home/ec2-user/anaconda3/envs/amazonei_tensorflow_p36/lib/python3.6/site-packages (from kaggle) (4.42.1)\n",
      "Collecting python-slugify\n",
      "  Downloading python_slugify-5.0.2-py2.py3-none-any.whl (6.7 kB)\n",
      "Requirement already satisfied: urllib3 in /home/ec2-user/anaconda3/envs/amazonei_tensorflow_p36/lib/python3.6/site-packages (from kaggle) (1.26.7)\n",
      "Collecting text-unidecode>=1.3\n",
      "  Downloading text_unidecode-1.3-py2.py3-none-any.whl (78 kB)\n",
      "\u001b[K     |████████████████████████████████| 78 kB 10.3 MB/s eta 0:00:01\n",
      "\u001b[?25hRequirement already satisfied: idna<4,>=2.5 in /home/ec2-user/anaconda3/envs/amazonei_tensorflow_p36/lib/python3.6/site-packages (from requests->kaggle) (3.3)\n",
      "Requirement already satisfied: charset-normalizer~=2.0.0 in /home/ec2-user/anaconda3/envs/amazonei_tensorflow_p36/lib/python3.6/site-packages (from requests->kaggle) (2.0.7)\n",
      "Building wheels for collected packages: kaggle\n",
      "  Building wheel for kaggle (setup.py) ... \u001b[?25ldone\n",
      "\u001b[?25h  Created wheel for kaggle: filename=kaggle-1.5.12-py3-none-any.whl size=73052 sha256=614effb71bc49da6281ed0f47d44ea59d86d15892e2cb843f9de48fddd9b39c2\n",
      "  Stored in directory: /home/ec2-user/.cache/pip/wheels/77/47/e4/44a4ba1b7dfd53faaa35f59f1175e123b213ff401a8a56876b\n",
      "Successfully built kaggle\n",
      "Installing collected packages: text-unidecode, python-slugify, kaggle\n",
      "Successfully installed kaggle-1.5.12 python-slugify-5.0.2 text-unidecode-1.3\n",
      "\u001b[33mWARNING: You are using pip version 21.2.4; however, version 21.3.1 is available.\n",
      "You should consider upgrading via the '/home/ec2-user/anaconda3/envs/amazonei_tensorflow_p36/bin/python -m pip install --upgrade pip' command.\u001b[0m\n"
     ]
    }
   ],
   "source": [
    "!pip install kaggle"
   ]
  },
  {
   "cell_type": "code",
   "execution_count": 5,
   "id": "fa672fdd",
   "metadata": {},
   "outputs": [
    {
     "name": "stdout",
     "output_type": "stream",
     "text": [
      "Warning: Your Kaggle API key is readable by other users on this system! To fix this, you can run 'chmod 600 /home/ec2-user/.kaggle/kaggle.json'\n",
      "Downloading nlp-getting-started.zip to /home/ec2-user/SageMaker/capstone_project\n",
      "  0%|                                                | 0.00/593k [00:00<?, ?B/s]\n",
      "100%|████████████████████████████████████████| 593k/593k [00:00<00:00, 47.2MB/s]\n"
     ]
    }
   ],
   "source": [
    "!kaggle competitions download -c nlp-getting-started"
   ]
  },
  {
   "cell_type": "code",
   "execution_count": 7,
   "id": "3dfe5642",
   "metadata": {},
   "outputs": [
    {
     "name": "stdout",
     "output_type": "stream",
     "text": [
      "Archive:  nlp-getting-started.zip\n",
      "  inflating: sample_submission.csv   \n",
      "  inflating: test.csv                \n",
      "  inflating: train.csv               \n"
     ]
    }
   ],
   "source": [
    "!unzip nlp-getting-started.zip"
   ]
  },
  {
   "cell_type": "markdown",
   "id": "c0d73265",
   "metadata": {},
   "source": [
    "# Read Dataframe"
   ]
  },
  {
   "cell_type": "code",
   "execution_count": 126,
   "id": "9c2a1ade",
   "metadata": {},
   "outputs": [
    {
     "name": "stdout",
     "output_type": "stream",
     "text": [
      "1.15.5\n"
     ]
    }
   ],
   "source": [
    "import pandas as pd\n",
    "import numpy as np\n",
    "import time\n",
    "import os\n",
    "import sklearn\n",
    "import tensorflow as tf\n",
    "print(tf.__version__)\n",
    "tf_framework_version = tf.__version__"
   ]
  },
  {
   "cell_type": "code",
   "execution_count": 127,
   "id": "4cba9862",
   "metadata": {},
   "outputs": [
    {
     "name": "stdout",
     "output_type": "stream",
     "text": [
      "pandas version == 1.1.5\n",
      "numpy version == 1.19.5\n",
      "tensorflow version == 1.15.5\n",
      "seaborn version == 0.11.2\n",
      "sklearn version == 0.22.1\n"
     ]
    }
   ],
   "source": [
    "print(f\"pandas version == {pd.__version__}\")\n",
    "print(f\"numpy version == {np.__version__}\")\n",
    "print(f\"tensorflow version == {tf.__version__}\")\n",
    "print(f\"seaborn version == {sns.__version__}\")\n",
    "print(f\"sklearn version == {sklearn.__version__}\")"
   ]
  },
  {
   "cell_type": "code",
   "execution_count": 2,
   "id": "c57912de",
   "metadata": {},
   "outputs": [],
   "source": [
    "train_df = pd.read_csv('train.csv')\n",
    "test_df = pd.read_csv('test.csv')"
   ]
  },
  {
   "cell_type": "markdown",
   "id": "7749dd4a",
   "metadata": {},
   "source": [
    "# Exploratory analysis"
   ]
  },
  {
   "cell_type": "code",
   "execution_count": 14,
   "id": "2fda4640",
   "metadata": {},
   "outputs": [
    {
     "data": {
      "text/html": [
       "<div>\n",
       "<style scoped>\n",
       "    .dataframe tbody tr th:only-of-type {\n",
       "        vertical-align: middle;\n",
       "    }\n",
       "\n",
       "    .dataframe tbody tr th {\n",
       "        vertical-align: top;\n",
       "    }\n",
       "\n",
       "    .dataframe thead th {\n",
       "        text-align: right;\n",
       "    }\n",
       "</style>\n",
       "<table border=\"1\" class=\"dataframe\">\n",
       "  <thead>\n",
       "    <tr style=\"text-align: right;\">\n",
       "      <th></th>\n",
       "      <th>id</th>\n",
       "      <th>keyword</th>\n",
       "      <th>location</th>\n",
       "      <th>text</th>\n",
       "      <th>target</th>\n",
       "    </tr>\n",
       "  </thead>\n",
       "  <tbody>\n",
       "    <tr>\n",
       "      <th>0</th>\n",
       "      <td>1</td>\n",
       "      <td>NaN</td>\n",
       "      <td>NaN</td>\n",
       "      <td>Our Deeds are the Reason of this #earthquake M...</td>\n",
       "      <td>1</td>\n",
       "    </tr>\n",
       "    <tr>\n",
       "      <th>1</th>\n",
       "      <td>4</td>\n",
       "      <td>NaN</td>\n",
       "      <td>NaN</td>\n",
       "      <td>Forest fire near La Ronge Sask. Canada</td>\n",
       "      <td>1</td>\n",
       "    </tr>\n",
       "    <tr>\n",
       "      <th>2</th>\n",
       "      <td>5</td>\n",
       "      <td>NaN</td>\n",
       "      <td>NaN</td>\n",
       "      <td>All residents asked to 'shelter in place' are ...</td>\n",
       "      <td>1</td>\n",
       "    </tr>\n",
       "    <tr>\n",
       "      <th>3</th>\n",
       "      <td>6</td>\n",
       "      <td>NaN</td>\n",
       "      <td>NaN</td>\n",
       "      <td>13,000 people receive #wildfires evacuation or...</td>\n",
       "      <td>1</td>\n",
       "    </tr>\n",
       "    <tr>\n",
       "      <th>4</th>\n",
       "      <td>7</td>\n",
       "      <td>NaN</td>\n",
       "      <td>NaN</td>\n",
       "      <td>Just got sent this photo from Ruby #Alaska as ...</td>\n",
       "      <td>1</td>\n",
       "    </tr>\n",
       "  </tbody>\n",
       "</table>\n",
       "</div>"
      ],
      "text/plain": [
       "   id keyword location                                               text  \\\n",
       "0   1     NaN      NaN  Our Deeds are the Reason of this #earthquake M...   \n",
       "1   4     NaN      NaN             Forest fire near La Ronge Sask. Canada   \n",
       "2   5     NaN      NaN  All residents asked to 'shelter in place' are ...   \n",
       "3   6     NaN      NaN  13,000 people receive #wildfires evacuation or...   \n",
       "4   7     NaN      NaN  Just got sent this photo from Ruby #Alaska as ...   \n",
       "\n",
       "   target  \n",
       "0       1  \n",
       "1       1  \n",
       "2       1  \n",
       "3       1  \n",
       "4       1  "
      ]
     },
     "execution_count": 14,
     "metadata": {},
     "output_type": "execute_result"
    }
   ],
   "source": [
    "train_df.head()"
   ]
  },
  {
   "cell_type": "code",
   "execution_count": 15,
   "id": "7deba43f",
   "metadata": {},
   "outputs": [
    {
     "name": "stdout",
     "output_type": "stream",
     "text": [
      "<class 'pandas.core.frame.DataFrame'>\n",
      "RangeIndex: 7613 entries, 0 to 7612\n",
      "Data columns (total 5 columns):\n",
      " #   Column    Non-Null Count  Dtype \n",
      "---  ------    --------------  ----- \n",
      " 0   id        7613 non-null   int64 \n",
      " 1   keyword   7552 non-null   object\n",
      " 2   location  5080 non-null   object\n",
      " 3   text      7613 non-null   object\n",
      " 4   target    7613 non-null   int64 \n",
      "dtypes: int64(2), object(3)\n",
      "memory usage: 297.5+ KB\n"
     ]
    }
   ],
   "source": [
    "train_df.info()"
   ]
  },
  {
   "cell_type": "code",
   "execution_count": 16,
   "id": "adaa2af2",
   "metadata": {},
   "outputs": [
    {
     "data": {
      "text/plain": [
       "((7613, 5), (3263, 4))"
      ]
     },
     "execution_count": 16,
     "metadata": {},
     "output_type": "execute_result"
    }
   ],
   "source": [
    "train_df.shape,test_df.shape"
   ]
  },
  {
   "cell_type": "code",
   "execution_count": 17,
   "id": "e0a9f62f",
   "metadata": {},
   "outputs": [
    {
     "data": {
      "text/plain": [
       "0    4342\n",
       "1    3271\n",
       "Name: target, dtype: int64"
      ]
     },
     "execution_count": 17,
     "metadata": {},
     "output_type": "execute_result"
    }
   ],
   "source": [
    "train_df['target'].value_counts()"
   ]
  },
  {
   "cell_type": "code",
   "execution_count": 18,
   "id": "314479ac",
   "metadata": {},
   "outputs": [
    {
     "data": {
      "text/plain": [
       "0    0.57034\n",
       "1    0.42966\n",
       "Name: target, dtype: float64"
      ]
     },
     "execution_count": 18,
     "metadata": {},
     "output_type": "execute_result"
    }
   ],
   "source": [
    "train_df['target'].value_counts(normalize = True)"
   ]
  },
  {
   "cell_type": "code",
   "execution_count": 7,
   "id": "931ad1df",
   "metadata": {},
   "outputs": [
    {
     "data": {
      "text/plain": [
       "fatalities               45\n",
       "deluge                   42\n",
       "armageddon               42\n",
       "body%20bags              41\n",
       "sinking                  41\n",
       "                         ..\n",
       "forest%20fire            19\n",
       "epicentre                12\n",
       "threat                   11\n",
       "inundation               10\n",
       "radiation%20emergency     9\n",
       "Name: keyword, Length: 221, dtype: int64"
      ]
     },
     "execution_count": 7,
     "metadata": {},
     "output_type": "execute_result"
    }
   ],
   "source": [
    "train_df['keyword'].value_counts()"
   ]
  },
  {
   "cell_type": "code",
   "execution_count": 19,
   "id": "5cec8091",
   "metadata": {},
   "outputs": [
    {
     "name": "stdout",
     "output_type": "stream",
     "text": [
      "id          0.000000\n",
      "keyword     0.008013\n",
      "location    0.332720\n",
      "text        0.000000\n",
      "target      0.000000\n",
      "dtype: float64\n"
     ]
    }
   ],
   "source": [
    "print(train_df.isna().mean())"
   ]
  },
  {
   "cell_type": "code",
   "execution_count": 9,
   "id": "b47ffa5e",
   "metadata": {},
   "outputs": [
    {
     "name": "stdout",
     "output_type": "stream",
     "text": [
      "id             0\n",
      "keyword       26\n",
      "location    1105\n",
      "text           0\n",
      "dtype: int64\n"
     ]
    }
   ],
   "source": [
    "print(test_df.isna().sum())"
   ]
  },
  {
   "cell_type": "code",
   "execution_count": 3,
   "id": "f8718407",
   "metadata": {},
   "outputs": [],
   "source": [
    "# fill-in a placeholder for missing values\n",
    "for i in ['keyword','location']:\n",
    "    train_df[i].fillna(\"Missing\", inplace=True)\n",
    "    test_df[i].fillna(\"Missing\", inplace=True)"
   ]
  },
  {
   "cell_type": "code",
   "execution_count": 4,
   "id": "f56d1b67",
   "metadata": {},
   "outputs": [
    {
     "name": "stdout",
     "output_type": "stream",
     "text": [
      "id          0\n",
      "keyword     0\n",
      "location    0\n",
      "text        0\n",
      "target      0\n",
      "dtype: int64\n"
     ]
    }
   ],
   "source": [
    "# check if NA is filled\n",
    "print(train_df.isna().sum())"
   ]
  },
  {
   "cell_type": "code",
   "execution_count": 24,
   "id": "fa30c264",
   "metadata": {},
   "outputs": [
    {
     "name": "stdout",
     "output_type": "stream",
     "text": [
      "/home/ec2-user/anaconda3/envs/amazonei_tensorflow_p36/lib/python3.6/site-packages/secretstorage/dhcrypto.py:16: CryptographyDeprecationWarning: int_from_bytes is deprecated, use int.from_bytes instead\n",
      "  from cryptography.utils import int_from_bytes\n",
      "/home/ec2-user/anaconda3/envs/amazonei_tensorflow_p36/lib/python3.6/site-packages/secretstorage/util.py:25: CryptographyDeprecationWarning: int_from_bytes is deprecated, use int.from_bytes instead\n",
      "  from cryptography.utils import int_from_bytes\n",
      "Requirement already satisfied: seaborn in /home/ec2-user/anaconda3/envs/amazonei_tensorflow_p36/lib/python3.6/site-packages (0.10.0)\n",
      "Collecting seaborn\n",
      "  Downloading seaborn-0.11.2-py3-none-any.whl (292 kB)\n",
      "\u001b[K     |████████████████████████████████| 292 kB 41.7 MB/s eta 0:00:01\n",
      "\u001b[?25hRequirement already satisfied: scipy>=1.0 in /home/ec2-user/anaconda3/envs/amazonei_tensorflow_p36/lib/python3.6/site-packages (from seaborn) (1.4.1)\n",
      "Requirement already satisfied: numpy>=1.15 in /home/ec2-user/anaconda3/envs/amazonei_tensorflow_p36/lib/python3.6/site-packages (from seaborn) (1.19.5)\n",
      "Requirement already satisfied: matplotlib>=2.2 in /home/ec2-user/anaconda3/envs/amazonei_tensorflow_p36/lib/python3.6/site-packages (from seaborn) (3.1.3)\n",
      "Requirement already satisfied: pandas>=0.23 in /home/ec2-user/anaconda3/envs/amazonei_tensorflow_p36/lib/python3.6/site-packages (from seaborn) (1.1.5)\n",
      "Requirement already satisfied: kiwisolver>=1.0.1 in /home/ec2-user/anaconda3/envs/amazonei_tensorflow_p36/lib/python3.6/site-packages (from matplotlib>=2.2->seaborn) (1.1.0)\n",
      "Requirement already satisfied: pyparsing!=2.0.4,!=2.1.2,!=2.1.6,>=2.0.1 in /home/ec2-user/anaconda3/envs/amazonei_tensorflow_p36/lib/python3.6/site-packages (from matplotlib>=2.2->seaborn) (3.0.1)\n",
      "Requirement already satisfied: python-dateutil>=2.1 in /home/ec2-user/anaconda3/envs/amazonei_tensorflow_p36/lib/python3.6/site-packages (from matplotlib>=2.2->seaborn) (2.8.2)\n",
      "Requirement already satisfied: cycler>=0.10 in /home/ec2-user/anaconda3/envs/amazonei_tensorflow_p36/lib/python3.6/site-packages (from matplotlib>=2.2->seaborn) (0.10.0)\n",
      "Requirement already satisfied: six in /home/ec2-user/anaconda3/envs/amazonei_tensorflow_p36/lib/python3.6/site-packages (from cycler>=0.10->matplotlib>=2.2->seaborn) (1.16.0)\n",
      "Requirement already satisfied: setuptools in /home/ec2-user/anaconda3/envs/amazonei_tensorflow_p36/lib/python3.6/site-packages (from kiwisolver>=1.0.1->matplotlib>=2.2->seaborn) (58.3.0)\n",
      "Requirement already satisfied: pytz>=2017.2 in /home/ec2-user/anaconda3/envs/amazonei_tensorflow_p36/lib/python3.6/site-packages (from pandas>=0.23->seaborn) (2021.3)\n",
      "Installing collected packages: seaborn\n",
      "  Attempting uninstall: seaborn\n",
      "    Found existing installation: seaborn 0.10.0\n",
      "    Uninstalling seaborn-0.10.0:\n",
      "      Successfully uninstalled seaborn-0.10.0\n",
      "Successfully installed seaborn-0.11.2\n",
      "\u001b[33mWARNING: You are using pip version 21.2.4; however, version 21.3.1 is available.\n",
      "You should consider upgrading via the '/home/ec2-user/anaconda3/envs/amazonei_tensorflow_p36/bin/python -m pip install --upgrade pip' command.\u001b[0m\n"
     ]
    }
   ],
   "source": [
    "!pip install -U seaborn"
   ]
  },
  {
   "cell_type": "code",
   "execution_count": 32,
   "id": "bcbee8de",
   "metadata": {},
   "outputs": [
    {
     "data": {
      "text/plain": [
       "Text(0.5, 1.0, 'Bottom 5 keywords that point to actual disasters')"
      ]
     },
     "execution_count": 32,
     "metadata": {},
     "output_type": "execute_result"
    },
    {
     "data": {
      "image/png": "[encoded data removed]",
      "text/plain": [
       "<Figure size 1080x360 with 2 Axes>"
      ]
     },
     "metadata": {},
     "output_type": "display_data"
    }
   ],
   "source": [
    "import seaborn as sns\n",
    "import matplotlib.pyplot as plt\n",
    "sns.set(rc={'figure.figsize':(12,6)})\n",
    "\n",
    "# Check the distribution of actual disasters by keyword\n",
    "f, (ax1, ax2) = plt.subplots(1, 2, figsize=(15, 5))\n",
    "data = train_df.groupby('keyword')['target'].mean().sort_values(ascending = False).reset_index().iloc[0:5]\n",
    "sns.barplot(x=data['keyword'], y=data['target'], palette=\"rocket\", ax = ax1)\n",
    "ax1.set_title(\"Top 5 keywords that point to actual disasters\", fontsize = 10)\n",
    "\n",
    "data = train_df.groupby('keyword')['target'].mean().sort_values(ascending = True).reset_index().iloc[0:5]\n",
    "sns.barplot(x=data['keyword'], y=data['target'], palette=\"rocket\", ax = ax2)\n",
    "ax2.set_title(\"Bottom 5 keywords that point to actual disasters\", fontsize = 10)"
   ]
  },
  {
   "cell_type": "code",
   "execution_count": 33,
   "id": "11570caa",
   "metadata": {},
   "outputs": [
    {
     "data": {
      "text/plain": [
       "location\n",
       "åø\\_(?)_/åø                      1.0\n",
       "Livingston, IL  U.S.A.           1.0\n",
       "Magnolia, Fiore                  1.0\n",
       "Maharashtra                      1.0\n",
       "Malang                           1.0\n",
       "                                ... \n",
       "Liberty Lake, WA                 0.0\n",
       "Liberty Township, Ohio           0.0\n",
       "Light and dark, form and void    0.0\n",
       "Like us on Face                  0.0\n",
       "Mid West                         0.0\n",
       "Name: target, Length: 3342, dtype: float64"
      ]
     },
     "execution_count": 33,
     "metadata": {},
     "output_type": "execute_result"
    }
   ],
   "source": [
    "# Check the distribution of actual disasters by location\n",
    "train_df.groupby('location')['target'].mean().sort_values(ascending = False)"
   ]
  },
  {
   "cell_type": "code",
   "execution_count": 35,
   "id": "b4a2e558",
   "metadata": {},
   "outputs": [
    {
     "name": "stdout",
     "output_type": "stream",
     "text": [
      "[('the', 3207), ('a', 2135), ('in', 1949), ('to', 1934), ('of', 1814), ('and', 1405), ('i', 1336), ('is', 930), ('for', 880), ('on', 834)]\n"
     ]
    }
   ],
   "source": [
    "# Check the most common words in the text columns\n",
    "from collections import Counter\n",
    "results = Counter()\n",
    "train_df['text'].str.lower().str.split().apply(results.update)\n",
    "print(results.most_common(10))"
   ]
  },
  {
   "cell_type": "code",
   "execution_count": 37,
   "id": "c822a9d5",
   "metadata": {},
   "outputs": [
    {
     "name": "stderr",
     "output_type": "stream",
     "text": [
      "[nltk_data] Downloading package stopwords to\n",
      "[nltk_data]     /home/ec2-user/nltk_data...\n",
      "[nltk_data]   Package stopwords is already up-to-date!\n"
     ]
    },
    {
     "data": {
      "text/plain": [
       "True"
      ]
     },
     "execution_count": 37,
     "metadata": {},
     "output_type": "execute_result"
    }
   ],
   "source": [
    "import nltk\n",
    "nltk.download('stopwords')"
   ]
  },
  {
   "cell_type": "code",
   "execution_count": 40,
   "id": "dc05650d",
   "metadata": {},
   "outputs": [],
   "source": [
    "from nltk.corpus import stopwords\n",
    "stop = stopwords.words('english')"
   ]
  },
  {
   "cell_type": "code",
   "execution_count": 49,
   "id": "1f15aca9",
   "metadata": {},
   "outputs": [
    {
     "data": {
      "text/plain": [
       "count    7613.000000\n",
       "mean       86.687640\n",
       "std        30.894399\n",
       "min         5.000000\n",
       "25%        65.000000\n",
       "50%        90.000000\n",
       "75%       112.000000\n",
       "max       145.000000\n",
       "Name: text, dtype: float64"
      ]
     },
     "execution_count": 49,
     "metadata": {},
     "output_type": "execute_result"
    }
   ],
   "source": [
    "# Check what is the word length without the Stop words\n",
    "train_df['text'].apply(lambda x: ' '.join([word for word in x.split() if word not in (stop)])).apply(len).describe()"
   ]
  },
  {
   "cell_type": "code",
   "execution_count": 50,
   "id": "44d5d834",
   "metadata": {},
   "outputs": [
    {
     "data": {
      "text/plain": [
       "count    3263.000000\n",
       "mean       88.047809\n",
       "std        31.147631\n",
       "min         5.000000\n",
       "25%        67.000000\n",
       "50%        91.000000\n",
       "75%       114.000000\n",
       "max       149.000000\n",
       "Name: text, dtype: float64"
      ]
     },
     "execution_count": 50,
     "metadata": {},
     "output_type": "execute_result"
    }
   ],
   "source": [
    "# Same thing, but with Test df\n",
    "test_df['text'].apply(lambda x: ' '.join([word for word in x.split() if word not in (stop)])).apply(len).describe()"
   ]
  },
  {
   "cell_type": "code",
   "execution_count": 52,
   "id": "38b35a28",
   "metadata": {},
   "outputs": [
    {
     "name": "stderr",
     "output_type": "stream",
     "text": [
      "[nltk_data] Downloading package punkt to /home/ec2-user/nltk_data...\n",
      "[nltk_data]   Package punkt is already up-to-date!\n"
     ]
    }
   ],
   "source": [
    "import re\n",
    "import nltk\n",
    "from nltk.tokenize import word_tokenize\n",
    "from nltk.corpus import wordnet,stopwords\n",
    " \n",
    "nltk.download('punkt')\n",
    " \n",
    "def cleanStr(text):\n",
    "    \"\"\"\n",
    "    Clean the string and return clean text\n",
    "    \"\"\"  \n",
    "    text = text.lower() # lowercase\n",
    "    text = text.replace(r\"\\#\",\"\") # replaces hashtags\n",
    "    text = text.replace(r\"http\\S+\",\"URL\")  # remove URL addresses\n",
    "    text = text.replace(r\"@\",\"\")\n",
    "    text = text.replace(r\"[^A-Za-z0-9()!?\\'\\`\\\"]\", \" \")\n",
    "    text = text.replace(\"\\s{2,}\", \" \")\n",
    "    return text\n",
    "\n",
    "\n",
    "def tokenize(text):\n",
    "    \"\"\"\n",
    "    Tokenizers divide strings into list of substrings\n",
    "    \"\"\"\n",
    "    tokens = []\n",
    "    text = cleanStr(text)\n",
    "    words = word_tokenize(text)\n",
    "    for word in words:\n",
    "        tokens.append(word)\n",
    "    return tokens\n",
    "\n",
    "\n",
    "def createVocabulary(text_list):\n",
    "    \"\"\"\n",
    "    Create a vocab after tokenizing the sentence\n",
    "    \"\"\"\n",
    "    vocab = {}\n",
    "    counter = 0\n",
    "    for sentence in text_list:\n",
    "        for token in tokenize(sentence):\n",
    "            if token not in vocab:\n",
    "                vocab[token] = counter\n",
    "                counter += 1    \n",
    "    return vocab\n",
    "\n",
    "\n",
    "def transformText(text, vocab, max_length):\n",
    "    \"\"\"\n",
    "    Transform the sentence into a list, where the value is checked against the vocabulary\n",
    "    \"\"\"\n",
    "    token_arr = np.zeros((max_length,))\n",
    "    tokens = tokenize(text)[0:max_length]\n",
    "    for idx, token in enumerate(tokens):\n",
    "        try:\n",
    "            # Use the vocabulary index of the token\n",
    "            token_arr[idx] = vocab[token]\n",
    "        except:\n",
    "            token_arr[idx] = 0 # Unknown word\n",
    "    return token_arr"
   ]
  },
  {
   "cell_type": "code",
   "execution_count": 60,
   "id": "17cfadff",
   "metadata": {},
   "outputs": [
    {
     "name": "stdout",
     "output_type": "stream",
     "text": [
      "Creating the vocabulary\n",
      "Transforming training texts\n",
      "Transforming test texts\n"
     ]
    }
   ],
   "source": [
    "# Tranform the texts for both the Training and Testing df\n",
    "max_length = 150\n",
    "\n",
    "# Concat the keyword into combine text \n",
    "train_df['combine_text'] = train_df.apply(lambda x:x['text'] + \" \" + x['keyword'], axis = 1)\n",
    "test_df['combine_text'] = train_df.apply(lambda x:x['text'] + \" \" + x['keyword'], axis = 1)\n",
    " \n",
    "print(\"Creating the vocabulary\")\n",
    "vocab = createVocabulary(train_df['combine_text'])\n",
    "print(\"Transforming training texts\")\n",
    "train_text_transformed = np.array([transformText(text, vocab, max_length) for text in train_df['combine_text']]).astype(int)\n",
    "print(\"Transforming test texts\")\n",
    "test_text_transformed = np.array([transformText(text, vocab, max_length) for text in test_df[\"combine_text\"]]).astype(int)"
   ]
  },
  {
   "cell_type": "code",
   "execution_count": 61,
   "id": "cdc8bcda",
   "metadata": {},
   "outputs": [
    {
     "data": {
      "text/plain": [
       "((7613, 151), (3263, 150))"
      ]
     },
     "execution_count": 61,
     "metadata": {},
     "output_type": "execute_result"
    }
   ],
   "source": [
    "final_train_df = pd.concat([train_df['target'],pd.DataFrame(train_text_transformed)],axis = 1)\n",
    "final_test_df = pd.concat([pd.DataFrame(test_text_transformed)],axis = 1)\n",
    "\n",
    "final_train_df.shape,final_test_df.shape"
   ]
  },
  {
   "cell_type": "code",
   "execution_count": 62,
   "id": "e67d49cb",
   "metadata": {},
   "outputs": [],
   "source": [
    "final_train_df.to_pickle('train.pkl')\n",
    "final_test_df.to_pickle('test.pkl')"
   ]
  },
  {
   "cell_type": "markdown",
   "id": "e96938cd",
   "metadata": {},
   "source": [
    "# Use Pre-trained GLOVE work embedding"
   ]
  },
  {
   "cell_type": "code",
   "execution_count": 63,
   "id": "d304f53e",
   "metadata": {},
   "outputs": [],
   "source": [
    "import os, zipfile, urllib\n",
    " \n",
    "# Download the whole zip file if not downloaded before\n",
    "if not os.path.exists(\"/tmp/glove.6B.zip\"):\n",
    "    urllib.request.urlretrieve(\"http://nlp.stanford.edu/data/glove.6B.zip\", \"/tmp/glove.6B.zip\")\n",
    "    \n",
    "archive = zipfile.ZipFile(\"/tmp/glove.6B.zip\", \"r\")\n",
    "glove_data = archive.read(\"glove.6B.50d.txt\")\n",
    "lines = glove_data.decode(\"utf-8\").split(\"\\n\")"
   ]
  },
  {
   "cell_type": "code",
   "execution_count": 64,
   "id": "4e85c026",
   "metadata": {},
   "outputs": [],
   "source": [
    "embeddings_mapper = {}\n",
    "for line in lines:\n",
    "    values = line.split(\" \")\n",
    "    numeric_vals = values[1:]\n",
    "    embeddings_mapper[values[0]] = [float(i) for i in numeric_vals]"
   ]
  },
  {
   "cell_type": "code",
   "execution_count": 65,
   "id": "a10013ed",
   "metadata": {},
   "outputs": [],
   "source": [
    "\"\"\"\n",
    "The embed will map every word to a length 50 vector\n",
    "\"\"\"\n",
    "\n",
    "embedding_matrix_w = np.zeros((len(vocab.keys()),50))\n",
    "\n",
    "for word in vocab:\n",
    "    if word in embeddings_mapper.keys():\n",
    "        embedding_matrix_w[vocab[word]] = embeddings_mapper[word]"
   ]
  },
  {
   "cell_type": "code",
   "execution_count": 66,
   "id": "f6689905",
   "metadata": {},
   "outputs": [
    {
     "data": {
      "text/plain": [
       "((23258, 50), 23258)"
      ]
     },
     "execution_count": 66,
     "metadata": {},
     "output_type": "execute_result"
    }
   ],
   "source": [
    "embedding_matrix_w.shape,len(vocab.keys())"
   ]
  },
  {
   "cell_type": "code",
   "execution_count": 67,
   "id": "9b5cf91d",
   "metadata": {},
   "outputs": [],
   "source": [
    "# Save both Vocab and Embedding Matrix\n",
    "import pickle\n",
    "\n",
    "np.save('embedding_matrix_w', embedding_matrix_w)\n",
    "\n",
    "f = open(\"vocab.pkl\",\"wb\")\n",
    "pickle.dump(vocab,f)\n",
    "f.close()"
   ]
  },
  {
   "cell_type": "markdown",
   "id": "2f6dcb4b",
   "metadata": {},
   "source": [
    "# Split into Training and Validation"
   ]
  },
  {
   "cell_type": "code",
   "execution_count": 69,
   "id": "ef09d791",
   "metadata": {},
   "outputs": [],
   "source": [
    "from sklearn.model_selection import train_test_split\n",
    "x_train, x_val, y_train, y_val = train_test_split(final_train_df.loc[:,lambda x:x.columns != 'target'],final_train_df['target'],test_size=0.25,random_state=42)"
   ]
  },
  {
   "cell_type": "code",
   "execution_count": 70,
   "id": "e2207f24",
   "metadata": {},
   "outputs": [],
   "source": [
    "# Set Hyperparameters\n",
    "max_features = len(vocab.keys())\n",
    "embed_dim = embedding_matrix_w.shape[1]\n",
    "input_dim = x_train.shape[1]"
   ]
  },
  {
   "cell_type": "code",
   "execution_count": 72,
   "id": "b3048e4d",
   "metadata": {},
   "outputs": [],
   "source": [
    "from tensorflow import keras\n",
    "from tensorflow.keras import layers\n",
    "import os"
   ]
  },
  {
   "cell_type": "code",
   "execution_count": 109,
   "id": "37918c6c",
   "metadata": {},
   "outputs": [
    {
     "name": "stdout",
     "output_type": "stream",
     "text": [
      "Model: \"model_2\"\n",
      "_________________________________________________________________\n",
      "Layer (type)                 Output Shape              Param #   \n",
      "=================================================================\n",
      "input_3 (InputLayer)         [(None, 150)]             0         \n",
      "_________________________________________________________________\n",
      "embedding_7 (Embedding)      (None, 150, 50)           1162900   \n",
      "_________________________________________________________________\n",
      "bidirectional_4 (Bidirection (None, 150, 128)          58880     \n",
      "_________________________________________________________________\n",
      "bidirectional_5 (Bidirection (None, 128)               98816     \n",
      "_________________________________________________________________\n",
      "dense_2 (Dense)              (None, 1)                 129       \n",
      "=================================================================\n",
      "Total params: 1,320,725\n",
      "Trainable params: 157,825\n",
      "Non-trainable params: 1,162,900\n",
      "_________________________________________________________________\n"
     ]
    }
   ],
   "source": [
    "# Keras model layout\n",
    "inputs = keras.Input(shape=(input_dim,), dtype=\"int32\")\n",
    "x = layers.Embedding(max_features, embed_dim, weights = [embedding_matrix_w], trainable=False)(inputs)\n",
    "\n",
    "# Add 2 bidirectional LSTMs\n",
    "x = layers.Bidirectional(layers.LSTM(64, return_sequences=True))(x)\n",
    "x = layers.Bidirectional(layers.LSTM(64))(x)\n",
    "\n",
    "outputs = layers.Dense(1, activation=\"sigmoid\")(x)\n",
    "model = keras.Model(inputs, outputs)\n",
    "model.compile(loss = 'binary_crossentropy', optimizer='adam', metrics = ['AUC'])\n",
    "model.summary()"
   ]
  },
  {
   "cell_type": "code",
   "execution_count": 74,
   "id": "135789e6",
   "metadata": {},
   "outputs": [
    {
     "name": "stdout",
     "output_type": "stream",
     "text": [
      "Train on 4567 samples, validate on 1142 samples\n",
      "Epoch 1/10\n",
      "4567/4567 [==============================] - 36s 8ms/sample - loss: 0.5309 - auc: 0.7984 - val_loss: 0.4935 - val_auc: 0.8404\n",
      "Epoch 2/10\n",
      "4567/4567 [==============================] - 32s 7ms/sample - loss: 0.4544 - auc: 0.8550 - val_loss: 0.4768 - val_auc: 0.8558\n",
      "Epoch 3/10\n",
      "4567/4567 [==============================] - 32s 7ms/sample - loss: 0.4363 - auc: 0.8651 - val_loss: 0.4920 - val_auc: 0.8516\n",
      "Epoch 4/10\n",
      "4567/4567 [==============================] - 31s 7ms/sample - loss: 0.4240 - auc: 0.8747 - val_loss: 0.4601 - val_auc: 0.8586\n",
      "Epoch 5/10\n",
      "4567/4567 [==============================] - 32s 7ms/sample - loss: 0.4090 - auc: 0.8821 - val_loss: 0.4640 - val_auc: 0.8582\n",
      "Epoch 6/10\n",
      "4567/4567 [==============================] - 31s 7ms/sample - loss: 0.4093 - auc: 0.8812 - val_loss: 0.4679 - val_auc: 0.8597\n",
      "Epoch 7/10\n",
      "4567/4567 [==============================] - 33s 7ms/sample - loss: 0.3931 - auc: 0.8908 - val_loss: 0.4723 - val_auc: 0.8581\n",
      "Epoch 8/10\n",
      "4567/4567 [==============================] - 32s 7ms/sample - loss: 0.3803 - auc: 0.8982 - val_loss: 0.4796 - val_auc: 0.8560\n",
      "Epoch 9/10\n",
      "4567/4567 [==============================] - 32s 7ms/sample - loss: 0.3720 - auc: 0.9006 - val_loss: 0.4726 - val_auc: 0.8570\n",
      "Epoch 10/10\n",
      "4567/4567 [==============================] - 32s 7ms/sample - loss: 0.3591 - auc: 0.9068 - val_loss: 0.4733 - val_auc: 0.8580\n"
     ]
    }
   ],
   "source": [
    "epochs = 10\n",
    "batch_size = 64\n",
    "\n",
    "history = model.fit(x_train, y_train, epochs=epochs, batch_size=batch_size, validation_split = 0.2)"
   ]
  },
  {
   "cell_type": "code",
   "execution_count": 75,
   "id": "1a6ca4d6",
   "metadata": {},
   "outputs": [],
   "source": [
    "model.save(\"LSTM_model\")"
   ]
  },
  {
   "cell_type": "markdown",
   "id": "b3ef2669",
   "metadata": {},
   "source": [
    "# Evaluate Performance"
   ]
  },
  {
   "cell_type": "code",
   "execution_count": 95,
   "id": "d723dd0c",
   "metadata": {},
   "outputs": [],
   "source": [
    "from sklearn.metrics import precision_recall_curve\n",
    "from sklearn.metrics import confusion_matrix, ConfusionMatrixDisplay\n",
    "\n",
    "class classifier_performance():\n",
    "\n",
    "    def __init__(self,label,proba):\n",
    "        self.label = label\n",
    "        self.proba = proba\n",
    "\n",
    "    def diagnostic(self):\n",
    "        \n",
    "        # Calculate key metrics\n",
    "        precisions, recalls, thresholds = precision_recall_curve(self.label, self.proba)\n",
    "\n",
    "        # Calculate the F1 score using different values for the classification threshold, \n",
    "        # and pick the threshold that resulted in the highest F1 score.\n",
    "        highest_f1 = 0\n",
    "        threshold_highest_f1 = 0\n",
    "\n",
    "        f1_scores = []\n",
    "        for id, threhold in enumerate(thresholds):\n",
    "            f1_score = 2*precisions[id]*recalls[id]/(precisions[id]+recalls[id])\n",
    "            f1_scores.append(f1_score)\n",
    "            if(f1_score > highest_f1):\n",
    "                highest_f1 = f1_score\n",
    "                threshold_highest_f1 = threhold\n",
    "        print(f\"Highest F1 score on Validation: {highest_f1}, Threshold for the highest F1 score: {threshold_highest_f1}\")\n",
    "        self.threshold_highest_f1 = threshold_highest_f1\n",
    "\n",
    "        # Let's plot the F1 score versus different choices of thresholds\n",
    "        plt.plot([threshold_highest_f1, threshold_highest_f1], [np.min(f1_scores), np.max(f1_scores)], linestyle='--')\n",
    "        plt.plot(thresholds, f1_scores, marker='.')\n",
    "        plt.title('F1 Score versus different choices of thresholds')\n",
    "        plt.xlabel('Threshold')\n",
    "        plt.ylabel('F1 Score')\n",
    "\n",
    "        # Confusion Matrix\n",
    "        val_prediction_binary = [1 if x > threshold_highest_f1 else 0 for x in self.proba]\n",
    "        print('Confusion Matrix:')\n",
    "        cm = confusion_matrix(self.label, val_prediction_binary)\n",
    "        ConfusionMatrixDisplay(cm,display_labels=[0,1]).plot(values_format = 'd')\n",
    "\n",
    "        # Print Precision/Recall/F1/Specificity\n",
    "        tn, fp, fn, tp = confusion_matrix(self.label,val_prediction_binary).ravel()\n",
    "\n",
    "        self.precision = tp/(tp + fp)\n",
    "        self.recall = tp/(tp + fn)\n",
    "        self.specificity = tn/(tn + fp)\n",
    "        self.accuracy = (tp + tn) / (tp + fp + tn + fn)\n",
    "        self.f1_score = 2*(self.precision*self.recall)/(self.precision + self.recall)\n",
    "\n",
    "        print(\"Precision = %s\"%round(self.precision,3))\n",
    "        print(\"Recall = %s\"%round(self.recall,3))\n",
    "        print(\"Specificity = %s\"%round(self.specificity,3))\n",
    "        print(\"F1 score = %s\"%round(self.f1_score,3))\n",
    "        print(\"Accuracy = %s\"%(round(self.accuracy,3)))"
   ]
  },
  {
   "cell_type": "code",
   "execution_count": 96,
   "id": "32b3695f",
   "metadata": {},
   "outputs": [
    {
     "name": "stdout",
     "output_type": "stream",
     "text": [
      "Highest F1 score on Validation: 0.7799999999999999, Threshold for the highest F1 score: 0.23692217469215393\n",
      "Confusion Matrix:\n",
      "Precision = 0.747\n",
      "Recall = 0.814\n",
      "Specificity = 0.795\n",
      "F1 score = 0.779\n",
      "Accuracy = 0.803\n"
     ]
    },
    {
     "data": {
      "image/png": "[encoded data removed]",
      "text/plain": [
       "<Figure size 576x432 with 1 Axes>"
      ]
     },
     "metadata": {},
     "output_type": "display_data"
    },
    {
     "data": {
      "image/png": "[encoded data removed]",
      "text/plain": [
       "<Figure size 576x432 with 2 Axes>"
      ]
     },
     "metadata": {},
     "output_type": "display_data"
    }
   ],
   "source": [
    "# Evaluation on the Validation sample\n",
    "sns.set(rc={'figure.figsize':(8,6)})\n",
    "keras_prediction = model.predict(x_val)\n",
    "evaluation = classifier_performance(y_val,keras_prediction.squeeze())\n",
    "evaluation.diagnostic()"
   ]
  },
  {
   "cell_type": "markdown",
   "id": "b8c7d169",
   "metadata": {},
   "source": [
    "# Output prediction for Kaggle"
   ]
  },
  {
   "cell_type": "code",
   "execution_count": 98,
   "id": "f319aaa1",
   "metadata": {},
   "outputs": [],
   "source": [
    "Kaggle_pred = model.predict(final_test_df).squeeze()"
   ]
  },
  {
   "cell_type": "code",
   "execution_count": 100,
   "id": "dcff1794",
   "metadata": {},
   "outputs": [],
   "source": [
    "test_df['target'] = [1 if x > evaluation.threshold_highest_f1 else 0 for x in Kaggle_pred]"
   ]
  },
  {
   "cell_type": "code",
   "execution_count": 103,
   "id": "344ee1e6",
   "metadata": {},
   "outputs": [],
   "source": [
    "test_df[['id','target']].to_csv('kaggle_submission.csv', index = False)"
   ]
  },
  {
   "cell_type": "code",
   "execution_count": 106,
   "id": "caff1b28",
   "metadata": {},
   "outputs": [
    {
     "name": "stdout",
     "output_type": "stream",
     "text": [
      "Traceback (most recent call last):\n",
      "  File \"/home/ec2-user/anaconda3/envs/amazonei_tensorflow_p36/bin/kaggle\", line 5, in <module>\n",
      "    from kaggle.cli import main\n",
      "  File \"/home/ec2-user/anaconda3/envs/amazonei_tensorflow_p36/lib/python3.6/site-packages/kaggle/__init__.py\", line 23, in <module>\n",
      "    api.authenticate()\n",
      "  File \"/home/ec2-user/anaconda3/envs/amazonei_tensorflow_p36/lib/python3.6/site-packages/kaggle/api/kaggle_api_extended.py\", line 166, in authenticate\n",
      "    self.config_file, self.config_dir))\n",
      "OSError: Could not find kaggle.json. Make sure it's located in /home/ec2-user/.kaggle. Or use the environment method.\n"
     ]
    }
   ],
   "source": [
    "!kaggle competitions submit -c nlp-getting-started -f kaggle_submission.csv -m \"LSTM Gary\""
   ]
  },
  {
   "cell_type": "code",
   "execution_count": null,
   "id": "12a795f1",
   "metadata": {},
   "outputs": [],
   "source": []
  }
 ],
 "metadata": {
  "kernelspec": {
   "display_name": "conda_amazonei_tensorflow_p36",
   "language": "python",
   "name": "conda_amazonei_tensorflow_p36"
  },
  "language_info": {
   "codemirror_mode": {
    "name": "ipython",
    "version": 3
   },
   "file_extension": ".py",
   "mimetype": "text/x-python",
   "name": "python",
   "nbconvert_exporter": "python",
   "pygments_lexer": "ipython3",
   "version": "3.6.10"
  }
 },
 "nbformat": 4,
 "nbformat_minor": 5
}
